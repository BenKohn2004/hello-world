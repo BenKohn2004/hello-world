{
  "nbformat": 4,
  "nbformat_minor": 0,
  "metadata": {
    "colab": {
      "name": "DE Tableau Second Attempt.ipynb",
      "provenance": [],
      "collapsed_sections": [],
      "authorship_tag": "ABX9TyO7rzyLblr9UEyErpog/kZ+",
      "include_colab_link": true
    },
    "kernelspec": {
      "name": "python3",
      "display_name": "Python 3"
    }
  },
  "cells": [
    {
      "cell_type": "markdown",
      "metadata": {
        "id": "view-in-github",
        "colab_type": "text"
      },
      "source": [
        "<a href=\"https://colab.research.google.com/github/BenKohn2004/hello-world/blob/master/DE_Tableau_Second_Attempt.ipynb\" target=\"_parent\"><img src=\"https://colab.research.google.com/assets/colab-badge.svg\" alt=\"Open In Colab\"/></a>"
      ]
    },
    {
      "cell_type": "code",
      "metadata": {
        "id": "ya-6Iw4p92yl",
        "colab_type": "code",
        "colab": {}
      },
      "source": [
        "import requests\n",
        "import numpy as np\n",
        "import sys\n",
        "import re\n",
        "import math\n",
        "from bs4 import BeautifulSoup\n",
        "import collections\n",
        "import time\n",
        "from google.colab import drive\n",
        "import datetime\n",
        "from datetime import timedelta"
      ],
      "execution_count": 0,
      "outputs": []
    },
    {
      "cell_type": "code",
      "metadata": {
        "id": "gY6JHsva-BPM",
        "colab_type": "code",
        "colab": {}
      },
      "source": [
        "def BeauSoup(url):\n",
        "  r = requests.get(url)\n",
        "  #Ascii is used to prevent issues with specific characters, specifically Polish.\n",
        "  c = r.text.encode('utf-8').decode('ascii', 'ignore')\n",
        "  #c = r.content\n",
        "  return BeautifulSoup(c)"
      ],
      "execution_count": 0,
      "outputs": []
    },
    {
      "cell_type": "code",
      "metadata": {
        "id": "PNa3SQalUi4a",
        "colab_type": "code",
        "colab": {}
      },
      "source": [
        "def DE_Bracket_Template(table_bracket):\n",
        "  #Creates a Template of the DE Brackets that includes all Brackets\n",
        "  de_table_template = []\n",
        "  for j in range(table_bracket):\n",
        "    de_table_template.append([])\n",
        "    for i in range(2**(j)):\n",
        "      de_table_template[j].append(2**(table_bracket-(j+1))+2**(table_bracket-(j))*i)\n",
        "\n",
        "  # display(de_table_template)\n",
        "  return de_table_template"
      ],
      "execution_count": 0,
      "outputs": []
    },
    {
      "cell_type": "code",
      "metadata": {
        "id": "YuYfNtGE3Tww",
        "colab_type": "code",
        "colab": {}
      },
      "source": [
        "def find_in_list_of_list(mylist, char):\n",
        "  #\n",
        "  for sub_list in mylist:\n",
        "    if char in sub_list:\n",
        "      return (mylist.index(sub_list), sub_list.index(char))\n",
        "  raise ValueError(\"'{char}' is not in list\".format(char = char))"
      ],
      "execution_count": 0,
      "outputs": []
    },
    {
      "cell_type": "code",
      "metadata": {
        "id": "tGIV0-Sj-bc2",
        "colab_type": "code",
        "outputId": "bb3a4d02-8a50-4472-b57a-f3db654ad59a",
        "colab": {
          "base_uri": "https://localhost:8080/",
          "height": 187
        }
      },
      "source": [
        "# url = 'https://www.fencingtimelive.com/tableaus/scores/D3A2F7367EA5441EB514F8C1503114DD/B9EC414E1D4C450DA9D36F378C3D6D5D/trees/5F217718A34F4276BAFC948F8C3ED21C/tables/0/10'\n",
        "# url = 'https://www.fencingtimelive.com/tableaus/scores/3A0FBE4E86E94B63BE0F83E2321C7EC8/29FD037016994DB4953965F966880AD5/trees/C8B6BCB5C71D4D6A8C601F9A3DD16F14/tables/0/10'\n",
        "url = 'https://www.fencingtimelive.com/tableaus/scores/3CDEE334C33048F0A86038B62D88FCCF/602CC09D568C4022861CCFAE2BB28A39/trees/431E4F5870314289BECC8E9324E17067/tables/0/10'\n",
        "soup = BeauSoup(url)\n",
        "#Finds the Data Table for the Tournaments\n",
        "# data = soup.find_all(\"td\")\n",
        "#data = soup.find_all(\"span\", ({\"class\": \"tcln\"} or {\"class\": \"tcfn\"}))\n",
        "data1 = soup.find_all('span', class_='tcln')\n",
        "data2 = soup.find_all('span', class_='tcfn')\n",
        "\n",
        "# display(data1)\n",
        "\n",
        "\n",
        "first_names = []\n",
        "last_names = []\n",
        "\n",
        "for i in range(len(data2)):\n",
        "  first_names.append(data2[i].text)\n",
        "\n",
        "for i in range(len(data1)):\n",
        "  last_names.append(data1[i].text)\n",
        "\n",
        "display(f'Number of Fenced Bouts is {len(last_names)}')\n",
        "\n",
        "#Inserts Byes for First Names\n",
        "for i in range(len(last_names)):\n",
        "  if last_names[i] == '- BYE -':\n",
        "    first_names.insert(i,last_names[i])\n",
        "\n",
        "# de_bout_list = zip(last_names, first_names)\n",
        "\n",
        "# display(last_names[1])\n",
        "\n",
        "de_bout_list = []\n",
        "for i in range(len(last_names)):\n",
        "  de_bout_list.append(str(last_names[i]) + ' ' + str(first_names[i]))\n",
        "\n",
        "#display(de_bout_list)\n",
        "\n",
        "#Determines the Range of the DE Table\n",
        "table_of = []\n",
        "\n",
        "for elem in soup(text=re.compile(r'Table of .*')):\n",
        "  table_of.append(elem)\n",
        "  print(elem)\n",
        "\n",
        "#Gives the table bracket in terms of power of 2\n",
        "if table_of[0][:8] == 'Table of':\n",
        "  table_bracket = math.ceil(math.log(int(table_of[0][9:]),2))\n",
        "  display(table_bracket)\n",
        "\n",
        "\n",
        "#Assumes that a DE Tableu that makes it to the top 8 will finish the tournament. Semi-Finals and Finals are assumed.\n",
        "if int(table_of[-1][9:]) == 8:\n",
        "  display('The entire tournament is in the DE Bracket')\n",
        "  final_table_bracket = 0\n",
        "else:\n",
        "  display('The entire tournament is not in the DE Bracket')\n",
        "  #Adds one since the final table doesn't show the last bracket\n",
        "  final_table_bracket = math.ceil(math.log(int(table_of[-1][9:]),2)) - 1\n",
        "\n",
        "display(f'The starting table bracket is {table_bracket}')\n",
        "display(f'The final table bracket is {final_table_bracket}')\n",
        "\n",
        "#Insert values into the de_bout_list to bring it up to a complete DE List\n",
        "\n",
        "de_table = []\n",
        "de_table.append([])\n",
        "display(de_table)\n",
        "display(len(de_bout_list))\n",
        "display(2**(table_bracket))\n",
        "\n",
        "# j=0\n",
        "# for i in range(2**(table_bracket)):\n",
        "#   de_table[j].append(de_bout_list[i*(2**(j+1))+(2**j)])\n",
        "\n",
        "# display(de_table)"
      ],
      "execution_count": 0,
      "outputs": [
        {
          "output_type": "display_data",
          "data": {
            "text/plain": [
              "'Number of Fenced Bouts is 31'"
            ]
          },
          "metadata": {
            "tags": []
          }
        },
        {
          "output_type": "stream",
          "text": [
            "Table of 16\n",
            "Table of 8\n"
          ],
          "name": "stdout"
        },
        {
          "output_type": "display_data",
          "data": {
            "text/plain": [
              "4"
            ]
          },
          "metadata": {
            "tags": []
          }
        },
        {
          "output_type": "display_data",
          "data": {
            "text/plain": [
              "'The entire tournament is in the DE Bracket'"
            ]
          },
          "metadata": {
            "tags": []
          }
        },
        {
          "output_type": "display_data",
          "data": {
            "text/plain": [
              "'The starting table bracket is 4'"
            ]
          },
          "metadata": {
            "tags": []
          }
        },
        {
          "output_type": "display_data",
          "data": {
            "text/plain": [
              "'The final table bracket is 0'"
            ]
          },
          "metadata": {
            "tags": []
          }
        },
        {
          "output_type": "display_data",
          "data": {
            "text/plain": [
              "[[]]"
            ]
          },
          "metadata": {
            "tags": []
          }
        },
        {
          "output_type": "display_data",
          "data": {
            "text/plain": [
              "31"
            ]
          },
          "metadata": {
            "tags": []
          }
        },
        {
          "output_type": "display_data",
          "data": {
            "text/plain": [
              "16"
            ]
          },
          "metadata": {
            "tags": []
          }
        }
      ]
    },
    {
      "cell_type": "code",
      "metadata": {
        "id": "WOVPJqHdQiG7",
        "colab_type": "code",
        "outputId": "79921072-f9eb-402e-ebc2-86556de8845e",
        "colab": {
          "base_uri": "https://localhost:8080/",
          "height": 731
        }
      },
      "source": [
        "de_table_template = DE_Bracket_Template(table_bracket+1)\n",
        "#display(de_table_template)\n",
        "\n",
        "display(f'The starting table bracket is {table_bracket}')\n",
        "display(f'The final table bracket is {final_table_bracket}')\n",
        "\n",
        "#Converts the Template into the Appropriate DE Brackets\n",
        "\n",
        "# display(de_table_template.index('2'))\n",
        "position = find_in_list_of_list(de_table_template, 1)\n",
        "#display(position)\n",
        "#display(position[0])\n",
        "#display(de_table_template)\n",
        "\n",
        "#Initializes the list for the DE Brackets\n",
        "de_brackets_actual = []\n",
        "for i in range(table_bracket-final_table_bracket+1):\n",
        "  de_brackets_actual.append([])\n",
        "\n",
        "# display(len(de_table_template[6]))\n",
        "# display(de_table_template)\n",
        "# display(de_brackets_actual)\n",
        "\n",
        "display(f'The length of the DE Bout List is: {len(de_bout_list)}')\n",
        "display(f'The length of the first DE Round in the template is {len(de_table_template[-1])}')\n",
        "# display(f'The DE Table Template is:')\n",
        "# display(de_table_template)\n",
        "display(f'The Actual DE Brackets that are being built is: {de_brackets_actual}')\n",
        "\n",
        "counter = 0\n",
        "\n",
        "# for i in range(len(de_bout_list)):\n",
        "# for i in range(255):\n",
        "for i in range(int(len(de_table_template[-1]))*2-1):\n",
        "  try:\n",
        "    position = find_in_list_of_list(de_table_template, i+1)\n",
        "    # position = find_in_list_of_list(de_table_template, i+1)\n",
        "    if (position[0] - (final_table_bracket)) >= 0:\n",
        "      # display(f'The position of index {i+1} is {position[0]}')\n",
        "      # display(f'The position of the inserted index is {position[0] - (final_table_bracket)}')\n",
        "      # display(position[0] - (final_table_bracket))\n",
        "      de_brackets_actual[position[0] - (final_table_bracket)].append(i+1-counter)\n",
        "    else:\n",
        "      counter = counter + 1\n",
        "      # display(f'The index {i+1} is out of range so the counter is raised to {counter}')\n",
        "  except:\n",
        "    display('An exception occured')\n",
        "    display(f'The iterator i is: {i}')\n",
        "    display(f'The counter is: {counter}')\n",
        "    display(position[0] - (final_table_bracket-1))\n",
        "    display(de_brackets_actual)\n",
        "    break\n",
        "\n",
        "display(len(de_brackets_actual[2]))\n",
        "display(f'The iterator i is: {i}')\n",
        "display(f'The counter is: {counter}')\n",
        "\n",
        "\n",
        "display(f'The length of the Bout List is {len(de_bout_list)}')\n",
        "# display(len(de_bout_list))\n",
        "b = len(de_brackets_actual[2])+len(de_brackets_actual[1])+len(de_brackets_actual[0])\n",
        "display(f'The length of the actual DE Brackets are {b}')\n",
        "# a = len(de_table_template[7])+len(de_table_template[6])+len(de_table_template[5])+len(de_table_template[4])+len(de_table_template[3])+len(de_table_template[2])+len(de_table_template[1])+len(de_table_template[0])\n",
        "display(f'The length of the Bout Template is {a}')\n",
        "# display(len(de_brackets_actual[3]))\n",
        "display(len(de_brackets_actual[2]))\n",
        "display(len(de_brackets_actual[1]))\n",
        "display(len(de_brackets_actual[0]))\n",
        "# display(de_table_template)\n",
        "# display(de_brackets_actual)\n",
        "c = len(de_table_template[-1])\n",
        "display(f'The length of the last DE Table Template Bracket is {c}')\n",
        "\n",
        "for i in range(len(de_bout_list)):\n",
        "  position = find_in_list_of_list(de_brackets_actual, (i+1))\n",
        "  # display(f'The index {i} position is: {position}')\n",
        "  de_brackets_actual[position[0]][position[1]] = de_bout_list[i]\n",
        "\n",
        "# display(len(de_brackets_actual[2]))\n",
        "# display(len(de_brackets_actual[1]))\n",
        "# display(len(de_brackets_actual[0][0]))\n",
        "display(de_brackets_actual)"
      ],
      "execution_count": 0,
      "outputs": [
        {
          "output_type": "display_data",
          "data": {
            "text/plain": [
              "'The starting table bracket is 4'"
            ]
          },
          "metadata": {
            "tags": []
          }
        },
        {
          "output_type": "display_data",
          "data": {
            "text/plain": [
              "'The final table bracket is 0'"
            ]
          },
          "metadata": {
            "tags": []
          }
        },
        {
          "output_type": "display_data",
          "data": {
            "text/plain": [
              "'The length of the DE Bout List is: 31'"
            ]
          },
          "metadata": {
            "tags": []
          }
        },
        {
          "output_type": "display_data",
          "data": {
            "text/plain": [
              "'The length of the first DE Round in the template is 16'"
            ]
          },
          "metadata": {
            "tags": []
          }
        },
        {
          "output_type": "display_data",
          "data": {
            "text/plain": [
              "'The Actual DE Brackets that are being built is: [[], [], [], [], []]'"
            ]
          },
          "metadata": {
            "tags": []
          }
        },
        {
          "output_type": "display_data",
          "data": {
            "text/plain": [
              "4"
            ]
          },
          "metadata": {
            "tags": []
          }
        },
        {
          "output_type": "display_data",
          "data": {
            "text/plain": [
              "'The iterator i is: 30'"
            ]
          },
          "metadata": {
            "tags": []
          }
        },
        {
          "output_type": "display_data",
          "data": {
            "text/plain": [
              "'The counter is: 0'"
            ]
          },
          "metadata": {
            "tags": []
          }
        },
        {
          "output_type": "display_data",
          "data": {
            "text/plain": [
              "'The length of the Bout List is 31'"
            ]
          },
          "metadata": {
            "tags": []
          }
        },
        {
          "output_type": "display_data",
          "data": {
            "text/plain": [
              "'The length of the actual DE Brackets are 7'"
            ]
          },
          "metadata": {
            "tags": []
          }
        },
        {
          "output_type": "display_data",
          "data": {
            "text/plain": [
              "'The length of the Bout Template is 255'"
            ]
          },
          "metadata": {
            "tags": []
          }
        },
        {
          "output_type": "display_data",
          "data": {
            "text/plain": [
              "4"
            ]
          },
          "metadata": {
            "tags": []
          }
        },
        {
          "output_type": "display_data",
          "data": {
            "text/plain": [
              "2"
            ]
          },
          "metadata": {
            "tags": []
          }
        },
        {
          "output_type": "display_data",
          "data": {
            "text/plain": [
              "1"
            ]
          },
          "metadata": {
            "tags": []
          }
        },
        {
          "output_type": "display_data",
          "data": {
            "text/plain": [
              "'The length of the last DE Table Template Bracket is 16'"
            ]
          },
          "metadata": {
            "tags": []
          }
        },
        {
          "output_type": "display_data",
          "data": {
            "text/plain": [
              "[['CHAUVEL Titouan'],\n",
              " ['CHAUVEL Titouan', 'FELZINE Augustin'],\n",
              " ['CHAUVEL Titouan', 'PROSS Art', 'BOUCKAERT Louis', 'FELZINE Augustin'],\n",
              " ['CHAUVEL Titouan',\n",
              "  'TEICHNER Conrad',\n",
              "  'PARLICKI Yuri',\n",
              "  'PROSS Art',\n",
              "  'BOUCKAERT Louis',\n",
              "  'KAISIN Renaud',\n",
              "  'NEUBURGER Cyrus',\n",
              "  'FELZINE Augustin'],\n",
              " ['CHAUVEL Titouan',\n",
              "  '- BYE - - BYE -',\n",
              "  'PYCKE Luce',\n",
              "  'TEICHNER Conrad',\n",
              "  'PARLICKI Yuri',\n",
              "  'GILBERT Finn',\n",
              "  '- BYE - - BYE -',\n",
              "  'PROSS Art',\n",
              "  'BOUCKAERT Louis',\n",
              "  '- BYE - - BYE -',\n",
              "  'MEUWIS Timo',\n",
              "  'KAISIN Renaud',\n",
              "  'HAHN Tammo',\n",
              "  'NEUBURGER Cyrus',\n",
              "  '- BYE - - BYE -',\n",
              "  'FELZINE Augustin']]"
            ]
          },
          "metadata": {
            "tags": []
          }
        }
      ]
    }
  ]
}